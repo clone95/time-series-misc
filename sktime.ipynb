{
 "cells": [
  {
   "cell_type": "code",
   "execution_count": 1,
   "metadata": {},
   "outputs": [],
   "source": [
    "import pandas as pd\n",
    "import numpy as np\n",
    "import os\n",
    "import sys\n",
    "from sktime.utils.load_data import load_from_tsfile_to_dataframe\n",
    "from sktime.utils.data_container import from_nested_to_long\n",
    "import sktime as skt\n",
    "import seaborn as sns\n",
    "from utils import * "
   ]
  },
  {
   "cell_type": "code",
   "execution_count": 77,
   "metadata": {},
   "outputs": [],
   "source": [
    "data_folder = 'data/Univariate_ts'\n",
    "dataset_name = 'DiatomSizeReduction'\n",
    "train_dataset_path = os.path.join(data_folder, dataset_name, dataset_name+\"_TRAIN.ts\")\n",
    "test_dataset_path = os.path.join(data_folder, dataset_name, dataset_name+\"_TEST.ts\")\n",
    "train_x, train_y  = load_from_tsfile_to_dataframe(train_dataset_path, replace_missing_vals_with='Nan')\n",
    "test_x, test_y = load_from_tsfile_to_dataframe(test_dataset_path, replace_missing_vals_with='NaN')"
   ]
  },
  {
   "cell_type": "code",
   "execution_count": 80,
   "metadata": {},
   "outputs": [
    {
     "data": {
      "text/plain": [
       "array([0      1.574034\n",
       "1      1.568635\n",
       "2      1.567424\n",
       "3      1.572823\n",
       "4      1.534626\n",
       "         ...   \n",
       "340    1.549913\n",
       "341    1.550319\n",
       "342    1.551192\n",
       "343    1.552998\n",
       "344    1.552998\n",
       "Length: 345, dtype: float64], dtype=object)"
      ]
     },
     "execution_count": 80,
     "metadata": {},
     "output_type": "execute_result"
    }
   ],
   "source": [
    "test_x"
   ]
  },
  {
   "cell_type": "code",
   "execution_count": 64,
   "metadata": {},
   "outputs": [
    {
     "data": {
      "text/html": [
       "<div>\n",
       "<style scoped>\n",
       "    .dataframe tbody tr th:only-of-type {\n",
       "        vertical-align: middle;\n",
       "    }\n",
       "\n",
       "    .dataframe tbody tr th {\n",
       "        vertical-align: top;\n",
       "    }\n",
       "\n",
       "    .dataframe thead th {\n",
       "        text-align: right;\n",
       "    }\n",
       "</style>\n",
       "<table border=\"1\" class=\"dataframe\">\n",
       "  <thead>\n",
       "    <tr style=\"text-align: right;\">\n",
       "      <th></th>\n",
       "      <th>value</th>\n",
       "      <th>column</th>\n",
       "      <th>time_index</th>\n",
       "    </tr>\n",
       "    <tr>\n",
       "      <th>index</th>\n",
       "      <th></th>\n",
       "      <th></th>\n",
       "      <th></th>\n",
       "    </tr>\n",
       "  </thead>\n",
       "  <tbody>\n",
       "    <tr>\n",
       "      <th>0</th>\n",
       "      <td>-0.362922</td>\n",
       "      <td>dim_0</td>\n",
       "      <td>0</td>\n",
       "    </tr>\n",
       "    <tr>\n",
       "      <th>1</th>\n",
       "      <td>-0.116280</td>\n",
       "      <td>dim_0</td>\n",
       "      <td>0</td>\n",
       "    </tr>\n",
       "    <tr>\n",
       "      <th>2</th>\n",
       "      <td>-0.179317</td>\n",
       "      <td>dim_0</td>\n",
       "      <td>0</td>\n",
       "    </tr>\n",
       "    <tr>\n",
       "      <th>3</th>\n",
       "      <td>-0.103757</td>\n",
       "      <td>dim_0</td>\n",
       "      <td>0</td>\n",
       "    </tr>\n",
       "    <tr>\n",
       "      <th>4</th>\n",
       "      <td>-0.208100</td>\n",
       "      <td>dim_0</td>\n",
       "      <td>0</td>\n",
       "    </tr>\n",
       "    <tr>\n",
       "      <th>...</th>\n",
       "      <td>...</td>\n",
       "      <td>...</td>\n",
       "      <td>...</td>\n",
       "    </tr>\n",
       "    <tr>\n",
       "      <th>25</th>\n",
       "      <td>-1.606271</td>\n",
       "      <td>dim_0</td>\n",
       "      <td>469</td>\n",
       "    </tr>\n",
       "    <tr>\n",
       "      <th>26</th>\n",
       "      <td>-1.972077</td>\n",
       "      <td>dim_0</td>\n",
       "      <td>469</td>\n",
       "    </tr>\n",
       "    <tr>\n",
       "      <th>27</th>\n",
       "      <td>-2.011839</td>\n",
       "      <td>dim_0</td>\n",
       "      <td>469</td>\n",
       "    </tr>\n",
       "    <tr>\n",
       "      <th>28</th>\n",
       "      <td>-1.676686</td>\n",
       "      <td>dim_0</td>\n",
       "      <td>469</td>\n",
       "    </tr>\n",
       "    <tr>\n",
       "      <th>29</th>\n",
       "      <td>-1.608715</td>\n",
       "      <td>dim_0</td>\n",
       "      <td>469</td>\n",
       "    </tr>\n",
       "  </tbody>\n",
       "</table>\n",
       "<p>14100 rows × 3 columns</p>\n",
       "</div>"
      ],
      "text/plain": [
       "          value column time_index\n",
       "index                            \n",
       "0     -0.362922  dim_0          0\n",
       "1     -0.116280  dim_0          0\n",
       "2     -0.179317  dim_0          0\n",
       "3     -0.103757  dim_0          0\n",
       "4     -0.208100  dim_0          0\n",
       "...         ...    ...        ...\n",
       "25    -1.606271  dim_0        469\n",
       "26    -1.972077  dim_0        469\n",
       "27    -2.011839  dim_0        469\n",
       "28    -1.676686  dim_0        469\n",
       "29    -1.608715  dim_0        469\n",
       "\n",
       "[14100 rows x 3 columns]"
      ]
     },
     "execution_count": 64,
     "metadata": {},
     "output_type": "execute_result"
    }
   ],
   "source": [
    "a = from_nested_to_long(train_x).set_index('index')\n",
    "\n",
    "a"
   ]
  },
  {
   "cell_type": "code",
   "execution_count": 2,
   "metadata": {},
   "outputs": [],
   "source": [
    "import ipywidgets as widgets\n",
    "import os \n",
    "import sys\n",
    "\n",
    "dataset_selector = widgets.Dropdown(\n",
    "    options=['1', '2', '3'],\n",
    "    value='2',\n",
    "    description='Number:',\n",
    "    disabled=False,\n",
    ")"
   ]
  },
  {
   "cell_type": "code",
   "execution_count": 3,
   "metadata": {},
   "outputs": [
    {
     "data": {
      "application/vnd.jupyter.widget-view+json": {
       "model_id": "9d1d7bf0a3634040abe6c13a1fc48e8e",
       "version_major": 2,
       "version_minor": 0
      },
      "text/plain": [
       "Dropdown(description='Number:', index=1, options=('1', '2', '3'), value='2')"
      ]
     },
     "metadata": {},
     "output_type": "display_data"
    }
   ],
   "source": [
    "display(dataset_selector)"
   ]
  },
  {
   "cell_type": "code",
   "execution_count": null,
   "metadata": {},
   "outputs": [],
   "source": []
  }
 ],
 "metadata": {
  "kernelspec": {
   "display_name": "Python 3",
   "language": "python",
   "name": "python3"
  },
  "language_info": {
   "codemirror_mode": {
    "name": "ipython",
    "version": 3
   },
   "file_extension": ".py",
   "mimetype": "text/x-python",
   "name": "python",
   "nbconvert_exporter": "python",
   "pygments_lexer": "ipython3",
   "version": "3.7.7"
  }
 },
 "nbformat": 4,
 "nbformat_minor": 4
}
